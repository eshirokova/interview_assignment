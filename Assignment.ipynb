{
 "cells": [
  {
   "cell_type": "markdown",
   "metadata": {},
   "source": [
    "# DH Logistics Data Science - Interview Assignment"
   ]
  },
  {
   "cell_type": "markdown",
   "metadata": {},
   "source": [
    "This assignment contains a binary classification problem to predict whether the customer will pay back a loan he took out.\n",
    "The dataset is taken from Open Machine Learning Course https://mlcourse.ai. The goal of this assignment is to test your model building and model evaluation skillset.\n",
    "\n",
    "The expected time for this assignment is no more than 1 hour. Please send us your notebook with the solution 1 hour after receiving the assignment."
   ]
  },
  {
   "cell_type": "code",
   "execution_count": null,
   "metadata": {
    "ExecuteTime": {
     "end_time": "2019-06-14T09:26:32.042693Z",
     "start_time": "2019-06-14T09:26:31.848298Z"
    }
   },
   "outputs": [],
   "source": [
    "import pandas as pd\n",
    "from matplotlib import pyplot as plt"
   ]
  },
  {
   "cell_type": "markdown",
   "metadata": {},
   "source": [
    "### Baseline"
   ]
  },
  {
   "cell_type": "code",
   "execution_count": null,
   "metadata": {
    "ExecuteTime": {
     "end_time": "2019-06-14T09:30:35.594865Z",
     "start_time": "2019-06-14T09:30:35.548339Z"
    }
   },
   "outputs": [],
   "source": [
    "data = pd.read_csv('credit_scoring_sample.csv')"
   ]
  },
  {
   "cell_type": "markdown",
   "metadata": {
    "ExecuteTime": {
     "end_time": "2019-06-14T09:59:08.491497Z",
     "start_time": "2019-06-14T09:59:08.482484Z"
    }
   },
   "source": [
    "<b>age\t</b>\tCustomer age\n",
    "\n",
    "<b>DebtRatio</b>  Total monthly loan payments (loan, alimony, etc.) / Total monthly income percentage\n",
    "\n",
    "<b>NumberOfTime30-59DaysPastDueNotWorse</b> The number of cases when client has overdue 30-59 days (not worse) on other loans during the last 2 years\n",
    "\n",
    "<b>NumberOfTimes90DaysLate</b>\tNumber of cases when customer had 90+dpd overdue on other credits\n",
    "\n",
    "<b>NumberOfTime60-89DaysPastDueNotWorse</b> Number of cased when customer has 60-89dpd (not worse) during the last 2 years\n",
    "\n",
    "<b>NumberOfDependents</b>\tThe number of customer dependents\n",
    "\n",
    "<b>SeriousDlqin2yrs</b> 0 or 1\tCustomer hasn't paid the loan debt within 90 days"
   ]
  },
  {
   "cell_type": "code",
   "execution_count": null,
   "metadata": {
    "ExecuteTime": {
     "end_time": "2019-06-14T09:16:38.779730Z",
     "start_time": "2019-06-14T09:16:38.776724Z"
    }
   },
   "outputs": [],
   "source": [
    "feature_names = ['age', 'NumberOfTime30-59DaysPastDueNotWorse',\n",
    "       'DebtRatio', 'NumberOfTimes90DaysLate',\n",
    "       'NumberOfTime60-89DaysPastDueNotWorse', 'MonthlyIncome',\n",
    "       'NumberOfDependents']"
   ]
  },
  {
   "cell_type": "code",
   "execution_count": null,
   "metadata": {
    "ExecuteTime": {
     "end_time": "2019-06-14T09:15:40.441647Z",
     "start_time": "2019-06-14T09:15:40.431393Z"
    }
   },
   "outputs": [],
   "source": [
    "data.head()"
   ]
  },
  {
   "cell_type": "code",
   "execution_count": null,
   "metadata": {
    "ExecuteTime": {
     "end_time": "2019-06-14T09:15:48.291497Z",
     "start_time": "2019-06-14T09:15:48.272593Z"
    }
   },
   "outputs": [],
   "source": [
    "X = data[feature_names]\n",
    "y = data['SeriousDlqin2yrs']"
   ]
  },
  {
   "cell_type": "markdown",
   "metadata": {},
   "source": [
    "Split the data on train and test set"
   ]
  },
  {
   "cell_type": "code",
   "execution_count": null,
   "metadata": {
    "ExecuteTime": {
     "end_time": "2019-06-14T10:07:22.068504Z",
     "start_time": "2019-06-14T10:07:22.065701Z"
    }
   },
   "outputs": [],
   "source": [
    "from sklearn.model_selection import train_test_split"
   ]
  },
  {
   "cell_type": "code",
   "execution_count": null,
   "metadata": {
    "ExecuteTime": {
     "end_time": "2019-06-14T10:06:59.582960Z",
     "start_time": "2019-06-14T10:06:59.573839Z"
    }
   },
   "outputs": [],
   "source": [
    "RANDOM_STATE = 17\n",
    "X_train, X_test, y_train, y_test = train_test_split(X, y, test_size=30, random_state=RANDOM_STATE)"
   ]
  },
  {
   "cell_type": "markdown",
   "metadata": {},
   "source": [
    "### Task 1: Build a baseline Logistic Regression model"
   ]
  },
  {
   "cell_type": "code",
   "execution_count": null,
   "metadata": {},
   "outputs": [],
   "source": []
  },
  {
   "cell_type": "markdown",
   "metadata": {},
   "source": [
    "### Task 2: Build another model of your own choice. Try to beat the baseline model."
   ]
  },
  {
   "cell_type": "code",
   "execution_count": null,
   "metadata": {},
   "outputs": [],
   "source": []
  },
  {
   "cell_type": "markdown",
   "metadata": {},
   "source": [
    "### Task 3: Compare your own model's performance with the baseline model performance."
   ]
  },
  {
   "cell_type": "code",
   "execution_count": null,
   "metadata": {},
   "outputs": [],
   "source": []
  }
 ],
 "metadata": {
  "kernelspec": {
   "display_name": "Python 3",
   "language": "python",
   "name": "python3"
  },
  "language_info": {
   "codemirror_mode": {
    "name": "ipython",
    "version": 3
   },
   "file_extension": ".py",
   "mimetype": "text/x-python",
   "name": "python",
   "nbconvert_exporter": "python",
   "pygments_lexer": "ipython3",
   "version": "3.7.0"
  },
  "toc": {
   "base_numbering": 1,
   "nav_menu": {},
   "number_sections": true,
   "sideBar": true,
   "skip_h1_title": false,
   "title_cell": "Table of Contents",
   "title_sidebar": "Contents",
   "toc_cell": false,
   "toc_position": {},
   "toc_section_display": true,
   "toc_window_display": false
  },
  "varInspector": {
   "cols": {
    "lenName": 16,
    "lenType": 16,
    "lenVar": 40
   },
   "kernels_config": {
    "python": {
     "delete_cmd_postfix": "",
     "delete_cmd_prefix": "del ",
     "library": "var_list.py",
     "varRefreshCmd": "print(var_dic_list())"
    },
    "r": {
     "delete_cmd_postfix": ") ",
     "delete_cmd_prefix": "rm(",
     "library": "var_list.r",
     "varRefreshCmd": "cat(var_dic_list()) "
    }
   },
   "types_to_exclude": [
    "module",
    "function",
    "builtin_function_or_method",
    "instance",
    "_Feature"
   ],
   "window_display": false
  }
 },
 "nbformat": 4,
 "nbformat_minor": 2
}
